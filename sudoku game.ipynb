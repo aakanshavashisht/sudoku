{
 "cells": [
  {
   "cell_type": "code",
   "execution_count": null,
   "id": "fe4bca69-9965-4923-a655-2484766514f3",
   "metadata": {},
   "outputs": [
    {
     "name": "stdout",
     "output_type": "stream",
     "text": [
      "5 3 . | . 7 . | . . . \n",
      "6 . . | 1 9 5 | . . . \n",
      ". 9 8 | . . . | . 6 . \n",
      "---------------------\n",
      "8 . . | . 6 . | . . 3 \n",
      "4 . . | 8 . 3 | . . 1 \n",
      "7 . . | . 2 . | . . 6 \n",
      "---------------------\n",
      ". 6 . | . . . | 2 8 . \n",
      ". . . | 4 1 9 | . . 5 \n",
      ". . . | . 8 . | . 7 9 \n"
     ]
    },
    {
     "name": "stdin",
     "output_type": "stream",
     "text": [
      "Enter row (0-8):  5\n",
      "Enter col (0-8):  6\n",
      "Enter number (1-9):  9\n"
     ]
    },
    {
     "name": "stdout",
     "output_type": "stream",
     "text": [
      "5 3 . | . 7 . | . . . \n",
      "6 . . | 1 9 5 | . . . \n",
      ". 9 8 | . . . | . 6 . \n",
      "---------------------\n",
      "8 . . | . 6 . | . . 3 \n",
      "4 . . | 8 . 3 | . . 1 \n",
      "7 . . | . 2 . | 9 . 6 \n",
      "---------------------\n",
      ". 6 . | . . . | 2 8 . \n",
      ". . . | 4 1 9 | . . 5 \n",
      ". . . | . 8 . | . 7 9 \n"
     ]
    },
    {
     "name": "stdin",
     "output_type": "stream",
     "text": [
      "Enter row (0-8):  0\n"
     ]
    }
   ],
   "source": [
    "import copy\n",
    "\n",
    "# Sample Sudoku puzzle (0 represents empty cell)\n",
    "puzzle = [\n",
    "    [5, 3, 0, 0, 7, 0, 0, 0, 0],\n",
    "    [6, 0, 0, 1, 9, 5, 0, 0, 0],\n",
    "    [0, 9, 8, 0, 0, 0, 0, 6, 0],\n",
    "    [8, 0, 0, 0, 6, 0, 0, 0, 3],\n",
    "    [4, 0, 0, 8, 0, 3, 0, 0, 1],\n",
    "    [7, 0, 0, 0, 2, 0, 0, 0, 6],\n",
    "    [0, 6, 0, 0, 0, 0, 2, 8, 0],\n",
    "    [0, 0, 0, 4, 1, 9, 0, 0, 5],\n",
    "    [0, 0, 0, 0, 8, 0, 0, 7, 9]\n",
    "]\n",
    "\n",
    "solution = copy.deepcopy(puzzle)\n",
    "\n",
    "def print_board(board):\n",
    "    for i in range(9):\n",
    "        if i % 3 == 0 and i != 0:\n",
    "            print(\"-\" * 21)\n",
    "        for j in range(9):\n",
    "            if j % 3 == 0 and j != 0:\n",
    "                print(\"|\", end=\" \")\n",
    "            if board[i][j] == 0:\n",
    "                print(\".\", end=\" \")\n",
    "            else:\n",
    "                print(board[i][j], end=\" \")\n",
    "        print()\n",
    "\n",
    "def is_valid(board, row, col, num):\n",
    "    for i in range(9):\n",
    "        if board[row][i] == num or board[i][col] == num:\n",
    "            return False\n",
    "    start_row, start_col = 3 * (row // 3), 3 * (col // 3)\n",
    "    for i in range(3):\n",
    "        for j in range(3):\n",
    "            if board[start_row + i][start_col + j] == num:\n",
    "                return False\n",
    "    return True\n",
    "\n",
    "def is_solved(board):\n",
    "    for row in board:\n",
    "        if 0 in row:\n",
    "            return False\n",
    "    return True\n",
    "\n",
    "def play_game():\n",
    "    while not is_solved(solution):\n",
    "        print_board(solution)\n",
    "        try:\n",
    "            row = int(input(\"Enter row (0-8): \"))\n",
    "            col = int(input(\"Enter col (0-8): \"))\n",
    "            num = int(input(\"Enter number (1-9): \"))\n",
    "            if puzzle[row][col] != 0:\n",
    "                print(\"You cannot change the original numbers.\")\n",
    "                continue\n",
    "            if is_valid(solution, row, col, num):\n",
    "                solution[row][col] = num\n",
    "            else:\n",
    "                print(\"Invalid move!\")\n",
    "        except (ValueError, IndexError):\n",
    "            print(\"Invalid input. Please enter numbers correctly.\")\n",
    "    print_board(solution)\n",
    "    print(\"Congratulations! You've solved the puzzle.\")\n",
    "\n",
    "play_game()\n"
   ]
  },
  {
   "cell_type": "code",
   "execution_count": null,
   "id": "509a4dd6-fd69-4941-b63a-328d5884fe89",
   "metadata": {},
   "outputs": [],
   "source": []
  },
  {
   "cell_type": "code",
   "execution_count": null,
   "id": "ea899f32-2407-45ae-ad4e-65ee2b64bab2",
   "metadata": {},
   "outputs": [],
   "source": []
  }
 ],
 "metadata": {
  "kernelspec": {
   "display_name": "Python [conda env:base] *",
   "language": "python",
   "name": "conda-base-py"
  },
  "language_info": {
   "codemirror_mode": {
    "name": "ipython",
    "version": 3
   },
   "file_extension": ".py",
   "mimetype": "text/x-python",
   "name": "python",
   "nbconvert_exporter": "python",
   "pygments_lexer": "ipython3",
   "version": "3.12.7"
  }
 },
 "nbformat": 4,
 "nbformat_minor": 5
}
